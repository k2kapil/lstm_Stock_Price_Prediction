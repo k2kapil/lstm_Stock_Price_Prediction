{
 "cells": [
  {
   "cell_type": "code",
   "execution_count": null,
   "id": "85d7739b",
   "metadata": {},
   "outputs": [],
   "source": [
    "Name\tSubject\tMarks\n",
    "Umesh\tMaths\t90\n",
    "Umesh\tScience\t95\n",
    "Umesh\tEnglish\t90\n",
    "Ankur\tMaths\t90\n",
    "Ankur\tScience\t90\n",
    "Ankur\tEnglish\t85"
   ]
  },
  {
   "cell_type": "code",
   "execution_count": null,
   "id": "7ac7d8d3",
   "metadata": {},
   "outputs": [],
   "source": [
    "Name\tMaths\tScience\tEnglish\n",
    "Umesh\t90\t95\t90\n",
    "Ankur\t90\t90\t85"
   ]
  },
  {
   "cell_type": "code",
   "execution_count": 62,
   "id": "d57c99c1",
   "metadata": {},
   "outputs": [
    {
     "data": {
      "text/html": [
       "<div>\n",
       "<style scoped>\n",
       "    .dataframe tbody tr th:only-of-type {\n",
       "        vertical-align: middle;\n",
       "    }\n",
       "\n",
       "    .dataframe tbody tr th {\n",
       "        vertical-align: top;\n",
       "    }\n",
       "\n",
       "    .dataframe thead th {\n",
       "        text-align: right;\n",
       "    }\n",
       "</style>\n",
       "<table border=\"1\" class=\"dataframe\">\n",
       "  <thead>\n",
       "    <tr style=\"text-align: right;\">\n",
       "      <th></th>\n",
       "      <th>Name</th>\n",
       "      <th>Subject</th>\n",
       "      <th>Marks</th>\n",
       "    </tr>\n",
       "  </thead>\n",
       "  <tbody>\n",
       "    <tr>\n",
       "      <th>0</th>\n",
       "      <td>Umesh</td>\n",
       "      <td>Maths</td>\n",
       "      <td>90</td>\n",
       "    </tr>\n",
       "    <tr>\n",
       "      <th>1</th>\n",
       "      <td>Ankur</td>\n",
       "      <td>Science</td>\n",
       "      <td>95</td>\n",
       "    </tr>\n",
       "    <tr>\n",
       "      <th>2</th>\n",
       "      <td>Umesh</td>\n",
       "      <td>English</td>\n",
       "      <td>90</td>\n",
       "    </tr>\n",
       "    <tr>\n",
       "      <th>3</th>\n",
       "      <td>Ankur</td>\n",
       "      <td>Maths</td>\n",
       "      <td>95</td>\n",
       "    </tr>\n",
       "    <tr>\n",
       "      <th>4</th>\n",
       "      <td>Umesh</td>\n",
       "      <td>Science</td>\n",
       "      <td>90</td>\n",
       "    </tr>\n",
       "    <tr>\n",
       "      <th>5</th>\n",
       "      <td>Ankur</td>\n",
       "      <td>English</td>\n",
       "      <td>95</td>\n",
       "    </tr>\n",
       "  </tbody>\n",
       "</table>\n",
       "</div>"
      ],
      "text/plain": [
       "    Name  Subject  Marks\n",
       "0  Umesh    Maths     90\n",
       "1  Ankur  Science     95\n",
       "2  Umesh  English     90\n",
       "3  Ankur    Maths     95\n",
       "4  Umesh  Science     90\n",
       "5  Ankur  English     95"
      ]
     },
     "execution_count": 62,
     "metadata": {},
     "output_type": "execute_result"
    }
   ],
   "source": [
    "import pandas as pd\n",
    "df = pd.DataFrame({'Name': ['Umesh','Ankur','Umesh','Ankur','Umesh','Ankur'],'Subject' : ['Maths','Science','English','Maths','Science','English'], 'Marks': [90,95,90,95,90,95]})\n",
    "df"
   ]
  },
  {
   "cell_type": "code",
   "execution_count": 64,
   "id": "82a16ce6",
   "metadata": {},
   "outputs": [
    {
     "data": {
      "text/html": [
       "<div>\n",
       "<style scoped>\n",
       "    .dataframe tbody tr th:only-of-type {\n",
       "        vertical-align: middle;\n",
       "    }\n",
       "\n",
       "    .dataframe tbody tr th {\n",
       "        vertical-align: top;\n",
       "    }\n",
       "\n",
       "    .dataframe thead th {\n",
       "        text-align: right;\n",
       "    }\n",
       "</style>\n",
       "<table border=\"1\" class=\"dataframe\">\n",
       "  <thead>\n",
       "    <tr style=\"text-align: right;\">\n",
       "      <th></th>\n",
       "      <th>Name</th>\n",
       "      <th>Maths</th>\n",
       "      <th>English</th>\n",
       "      <th>Science</th>\n",
       "    </tr>\n",
       "  </thead>\n",
       "  <tbody>\n",
       "  </tbody>\n",
       "</table>\n",
       "</div>"
      ],
      "text/plain": [
       "Empty DataFrame\n",
       "Columns: [Name, Maths, English, Science]\n",
       "Index: []"
      ]
     },
     "execution_count": 64,
     "metadata": {},
     "output_type": "execute_result"
    }
   ],
   "source": [
    "df1 = pd.DataFrame(columns = ['Name','Maths','English','Science'])\n",
    "df1"
   ]
  },
  {
   "cell_type": "code",
   "execution_count": 74,
   "id": "cb522415",
   "metadata": {},
   "outputs": [
    {
     "data": {
      "text/html": [
       "<div>\n",
       "<style scoped>\n",
       "    .dataframe tbody tr th:only-of-type {\n",
       "        vertical-align: middle;\n",
       "    }\n",
       "\n",
       "    .dataframe tbody tr th {\n",
       "        vertical-align: top;\n",
       "    }\n",
       "\n",
       "    .dataframe thead th {\n",
       "        text-align: right;\n",
       "    }\n",
       "</style>\n",
       "<table border=\"1\" class=\"dataframe\">\n",
       "  <thead>\n",
       "    <tr style=\"text-align: right;\">\n",
       "      <th></th>\n",
       "      <th>Name</th>\n",
       "      <th>Marks</th>\n",
       "    </tr>\n",
       "  </thead>\n",
       "  <tbody>\n",
       "    <tr>\n",
       "      <th>0</th>\n",
       "      <td>Umesh</td>\n",
       "      <td>90</td>\n",
       "    </tr>\n",
       "    <tr>\n",
       "      <th>3</th>\n",
       "      <td>Ankur</td>\n",
       "      <td>95</td>\n",
       "    </tr>\n",
       "  </tbody>\n",
       "</table>\n",
       "</div>"
      ],
      "text/plain": [
       "    Name  Marks\n",
       "0  Umesh     90\n",
       "3  Ankur     95"
      ]
     },
     "execution_count": 74,
     "metadata": {},
     "output_type": "execute_result"
    }
   ],
   "source": [
    "#df.loc[:, ['Name', 'Marks']]\n",
    "df2 = df.loc[df['Subject'] == 'Maths', ['Name','Marks']]\n",
    "df2"
   ]
  },
  {
   "cell_type": "code",
   "execution_count": null,
   "id": "b9321eb3",
   "metadata": {},
   "outputs": [],
   "source": [
    "df.append"
   ]
  },
  {
   "cell_type": "code",
   "execution_count": 71,
   "id": "0bcb6470",
   "metadata": {},
   "outputs": [
    {
     "data": {
      "text/html": [
       "<div>\n",
       "<style scoped>\n",
       "    .dataframe tbody tr th:only-of-type {\n",
       "        vertical-align: middle;\n",
       "    }\n",
       "\n",
       "    .dataframe tbody tr th {\n",
       "        vertical-align: top;\n",
       "    }\n",
       "\n",
       "    .dataframe thead th {\n",
       "        text-align: right;\n",
       "    }\n",
       "</style>\n",
       "<table border=\"1\" class=\"dataframe\">\n",
       "  <thead>\n",
       "    <tr style=\"text-align: right;\">\n",
       "      <th></th>\n",
       "      <th>Name</th>\n",
       "      <th>Subject</th>\n",
       "      <th>Marks</th>\n",
       "    </tr>\n",
       "  </thead>\n",
       "  <tbody>\n",
       "    <tr>\n",
       "      <th>0</th>\n",
       "      <td>Umesh</td>\n",
       "      <td>Maths</td>\n",
       "      <td>90</td>\n",
       "    </tr>\n",
       "    <tr>\n",
       "      <th>3</th>\n",
       "      <td>Ankur</td>\n",
       "      <td>Maths</td>\n",
       "      <td>95</td>\n",
       "    </tr>\n",
       "  </tbody>\n",
       "</table>\n",
       "</div>"
      ],
      "text/plain": [
       "    Name Subject  Marks\n",
       "0  Umesh   Maths     90\n",
       "3  Ankur   Maths     95"
      ]
     },
     "execution_count": 71,
     "metadata": {},
     "output_type": "execute_result"
    }
   ],
   "source": [
    "#for i in range(0,len(df)):\n",
    "df.loc[(df['Subject'] == 'Maths')]\n",
    "    "
   ]
  },
  {
   "cell_type": "code",
   "execution_count": 65,
   "id": "8c95a13c",
   "metadata": {},
   "outputs": [
    {
     "data": {
      "text/html": [
       "<div>\n",
       "<style scoped>\n",
       "    .dataframe tbody tr th:only-of-type {\n",
       "        vertical-align: middle;\n",
       "    }\n",
       "\n",
       "    .dataframe tbody tr th {\n",
       "        vertical-align: top;\n",
       "    }\n",
       "\n",
       "    .dataframe thead th {\n",
       "        text-align: right;\n",
       "    }\n",
       "</style>\n",
       "<table border=\"1\" class=\"dataframe\">\n",
       "  <thead>\n",
       "    <tr style=\"text-align: right;\">\n",
       "      <th></th>\n",
       "      <th>Name</th>\n",
       "      <th>Subject</th>\n",
       "      <th>Marks</th>\n",
       "    </tr>\n",
       "  </thead>\n",
       "  <tbody>\n",
       "    <tr>\n",
       "      <th>0</th>\n",
       "      <td>Umesh</td>\n",
       "      <td>Maths</td>\n",
       "      <td>90</td>\n",
       "    </tr>\n",
       "    <tr>\n",
       "      <th>2</th>\n",
       "      <td>Umesh</td>\n",
       "      <td>English</td>\n",
       "      <td>90</td>\n",
       "    </tr>\n",
       "    <tr>\n",
       "      <th>4</th>\n",
       "      <td>Umesh</td>\n",
       "      <td>Science</td>\n",
       "      <td>90</td>\n",
       "    </tr>\n",
       "  </tbody>\n",
       "</table>\n",
       "</div>"
      ],
      "text/plain": [
       "    Name  Subject  Marks\n",
       "0  Umesh    Maths     90\n",
       "2  Umesh  English     90\n",
       "4  Umesh  Science     90"
      ]
     },
     "execution_count": 65,
     "metadata": {},
     "output_type": "execute_result"
    }
   ],
   "source": [
    "df[df['Name'] == 'Umesh']"
   ]
  },
  {
   "cell_type": "code",
   "execution_count": 59,
   "id": "abf82522",
   "metadata": {},
   "outputs": [
    {
     "data": {
      "text/plain": [
       "3"
      ]
     },
     "execution_count": 59,
     "metadata": {},
     "output_type": "execute_result"
    }
   ],
   "source": [
    "a = df['Subject'].unique()\n",
    "len(a)\n",
    "\n",
    "for i in range(0,len(a)):\n",
    "    df"
   ]
  },
  {
   "cell_type": "code",
   "execution_count": 77,
   "id": "8701ccb4",
   "metadata": {},
   "outputs": [
    {
     "name": "stdout",
     "output_type": "stream",
     "text": [
      "    Name  Marks  Subject\n",
      "0  Kapil     70    Maths\n",
      "1  Kapil     80    Hindi\n",
      "2  Kapil     80  Science\n",
      "3  ANkur     70    Hindi\n",
      "4  ANkur     90    Maths\n",
      "5  ANkur     90  Science\n",
      "['Maths' 'Hindi' 'Science']\n",
      "Empty DataFrame\n",
      "Columns: [Maths, Hindi, Science]\n",
      "Index: []\n",
      "    Name  Maths\n",
      "0  Kapil     70\n",
      "4  ANkur     90\n",
      "  Maths Hindi Science   Name\n",
      "0    70   NaN     NaN  Kapil\n",
      "4    90   NaN     NaN  ANkur\n",
      "    Name  Hindi\n",
      "1  Kapil     80\n",
      "3  ANkur     70\n",
      "  Maths Hindi Science   Name\n",
      "0    70   NaN     NaN  Kapil\n",
      "4    90   NaN     NaN  ANkur\n",
      "1   NaN    80     NaN  Kapil\n",
      "3   NaN    70     NaN  ANkur\n",
      "    Name  Science\n",
      "2  Kapil       80\n",
      "5  ANkur       90\n",
      "  Maths Hindi Science   Name\n",
      "0    70   NaN     NaN  Kapil\n",
      "4    90   NaN     NaN  ANkur\n",
      "1   NaN    80     NaN  Kapil\n",
      "3   NaN    70     NaN  ANkur\n",
      "2   NaN   NaN      80  Kapil\n",
      "5   NaN   NaN      90  ANkur\n"
     ]
    },
    {
     "name": "stderr",
     "output_type": "stream",
     "text": [
      "C:\\Users\\kapisharma\\AppData\\Local\\Temp\\ipykernel_20936\\3818891644.py:12: FutureWarning: The frame.append method is deprecated and will be removed from pandas in a future version. Use pandas.concat instead.\n",
      "  table2 = table2.append(b)\n",
      "C:\\Users\\kapisharma\\AppData\\Local\\Temp\\ipykernel_20936\\3818891644.py:17: FutureWarning: The frame.append method is deprecated and will be removed from pandas in a future version. Use pandas.concat instead.\n",
      "  table2 = table2.append(c)\n",
      "C:\\Users\\kapisharma\\AppData\\Local\\Temp\\ipykernel_20936\\3818891644.py:22: FutureWarning: The frame.append method is deprecated and will be removed from pandas in a future version. Use pandas.concat instead.\n",
      "  table2 = table2.append(d)\n"
     ]
    }
   ],
   "source": [
    "import pandas as pd\n",
    "table1 = pd.DataFrame({'Name': ['Kapil','Kapil','Kapil','ANkur','ANkur','ANkur'],\n",
    "                         'Marks': [70,80,80,70,90,90], 'Subject':['Maths','Hindi','Science','Hindi','Maths','Science']})\n",
    "print(table1)\n",
    "a = table1['Subject'].unique()\n",
    "print(a)\n",
    "table2 = pd.DataFrame(columns = [i for i in a])\n",
    "print(table2)\n",
    "b = table1.loc[:,['Name','Marks']][table1['Subject'] == 'Maths']\n",
    "b = b.rename(columns = {'Marks':'Maths'})\n",
    "print(b)\n",
    "table2 = table2.append(b)\n",
    "print(table2)\n",
    "c = table1.loc[:,['Name','Marks']][table1['Subject'] == 'Hindi']\n",
    "c = c.rename(columns = {'Marks':'Hindi'})\n",
    "print(c)\n",
    "table2 = table2.append(c)\n",
    "print(table2)\n",
    "d = table1.loc[:,['Name','Marks']][table1['Subject'] == 'Science']\n",
    "d = d.rename(columns ={'Marks' : 'Science'})\n",
    "print(d)\n",
    "table2 = table2.append(d)\n",
    "print(table2)"
   ]
  },
  {
   "cell_type": "code",
   "execution_count": 78,
   "id": "3d7801d0",
   "metadata": {},
   "outputs": [
    {
     "data": {
      "text/html": [
       "<div>\n",
       "<style scoped>\n",
       "    .dataframe tbody tr th:only-of-type {\n",
       "        vertical-align: middle;\n",
       "    }\n",
       "\n",
       "    .dataframe tbody tr th {\n",
       "        vertical-align: top;\n",
       "    }\n",
       "\n",
       "    .dataframe thead th {\n",
       "        text-align: right;\n",
       "    }\n",
       "</style>\n",
       "<table border=\"1\" class=\"dataframe\">\n",
       "  <thead>\n",
       "    <tr style=\"text-align: right;\">\n",
       "      <th></th>\n",
       "      <th>Maths</th>\n",
       "      <th>Hindi</th>\n",
       "      <th>Science</th>\n",
       "      <th>Name</th>\n",
       "    </tr>\n",
       "  </thead>\n",
       "  <tbody>\n",
       "    <tr>\n",
       "      <th>0</th>\n",
       "      <td>70</td>\n",
       "      <td>NaN</td>\n",
       "      <td>NaN</td>\n",
       "      <td>Kapil</td>\n",
       "    </tr>\n",
       "    <tr>\n",
       "      <th>4</th>\n",
       "      <td>90</td>\n",
       "      <td>NaN</td>\n",
       "      <td>NaN</td>\n",
       "      <td>ANkur</td>\n",
       "    </tr>\n",
       "    <tr>\n",
       "      <th>1</th>\n",
       "      <td>NaN</td>\n",
       "      <td>80</td>\n",
       "      <td>NaN</td>\n",
       "      <td>Kapil</td>\n",
       "    </tr>\n",
       "    <tr>\n",
       "      <th>3</th>\n",
       "      <td>NaN</td>\n",
       "      <td>70</td>\n",
       "      <td>NaN</td>\n",
       "      <td>ANkur</td>\n",
       "    </tr>\n",
       "    <tr>\n",
       "      <th>2</th>\n",
       "      <td>NaN</td>\n",
       "      <td>NaN</td>\n",
       "      <td>80</td>\n",
       "      <td>Kapil</td>\n",
       "    </tr>\n",
       "    <tr>\n",
       "      <th>5</th>\n",
       "      <td>NaN</td>\n",
       "      <td>NaN</td>\n",
       "      <td>90</td>\n",
       "      <td>ANkur</td>\n",
       "    </tr>\n",
       "  </tbody>\n",
       "</table>\n",
       "</div>"
      ],
      "text/plain": [
       "  Maths Hindi Science   Name\n",
       "0    70   NaN     NaN  Kapil\n",
       "4    90   NaN     NaN  ANkur\n",
       "1   NaN    80     NaN  Kapil\n",
       "3   NaN    70     NaN  ANkur\n",
       "2   NaN   NaN      80  Kapil\n",
       "5   NaN   NaN      90  ANkur"
      ]
     },
     "execution_count": 78,
     "metadata": {},
     "output_type": "execute_result"
    }
   ],
   "source": [
    "table2"
   ]
  },
  {
   "cell_type": "code",
   "execution_count": 81,
   "id": "03121d06",
   "metadata": {},
   "outputs": [
    {
     "data": {
      "text/plain": [
       "0     70\n",
       "4     90\n",
       "1    NaN\n",
       "3    NaN\n",
       "2    NaN\n",
       "5    NaN\n",
       "Name: Maths, dtype: object"
      ]
     },
     "execution_count": 81,
     "metadata": {},
     "output_type": "execute_result"
    }
   ],
   "source": [
    "table2['Maths'] = table2['Maths'].dropna()\n",
    "table2['Maths']"
   ]
  },
  {
   "cell_type": "code",
   "execution_count": 80,
   "id": "46a59ce2",
   "metadata": {},
   "outputs": [
    {
     "data": {
      "text/html": [
       "<div>\n",
       "<style scoped>\n",
       "    .dataframe tbody tr th:only-of-type {\n",
       "        vertical-align: middle;\n",
       "    }\n",
       "\n",
       "    .dataframe tbody tr th {\n",
       "        vertical-align: top;\n",
       "    }\n",
       "\n",
       "    .dataframe thead th {\n",
       "        text-align: right;\n",
       "    }\n",
       "</style>\n",
       "<table border=\"1\" class=\"dataframe\">\n",
       "  <thead>\n",
       "    <tr style=\"text-align: right;\">\n",
       "      <th></th>\n",
       "      <th>Maths</th>\n",
       "      <th>Hindi</th>\n",
       "      <th>Science</th>\n",
       "      <th>Name</th>\n",
       "    </tr>\n",
       "  </thead>\n",
       "  <tbody>\n",
       "    <tr>\n",
       "      <th>0</th>\n",
       "      <td>70</td>\n",
       "      <td>NaN</td>\n",
       "      <td>NaN</td>\n",
       "      <td>Kapil</td>\n",
       "    </tr>\n",
       "    <tr>\n",
       "      <th>4</th>\n",
       "      <td>90</td>\n",
       "      <td>NaN</td>\n",
       "      <td>NaN</td>\n",
       "      <td>ANkur</td>\n",
       "    </tr>\n",
       "    <tr>\n",
       "      <th>1</th>\n",
       "      <td>NaN</td>\n",
       "      <td>80</td>\n",
       "      <td>NaN</td>\n",
       "      <td>Kapil</td>\n",
       "    </tr>\n",
       "    <tr>\n",
       "      <th>3</th>\n",
       "      <td>NaN</td>\n",
       "      <td>70</td>\n",
       "      <td>NaN</td>\n",
       "      <td>ANkur</td>\n",
       "    </tr>\n",
       "    <tr>\n",
       "      <th>2</th>\n",
       "      <td>NaN</td>\n",
       "      <td>NaN</td>\n",
       "      <td>80</td>\n",
       "      <td>Kapil</td>\n",
       "    </tr>\n",
       "    <tr>\n",
       "      <th>5</th>\n",
       "      <td>NaN</td>\n",
       "      <td>NaN</td>\n",
       "      <td>90</td>\n",
       "      <td>ANkur</td>\n",
       "    </tr>\n",
       "  </tbody>\n",
       "</table>\n",
       "</div>"
      ],
      "text/plain": [
       "  Maths Hindi Science   Name\n",
       "0    70   NaN     NaN  Kapil\n",
       "4    90   NaN     NaN  ANkur\n",
       "1   NaN    80     NaN  Kapil\n",
       "3   NaN    70     NaN  ANkur\n",
       "2   NaN   NaN      80  Kapil\n",
       "5   NaN   NaN      90  ANkur"
      ]
     },
     "execution_count": 80,
     "metadata": {},
     "output_type": "execute_result"
    }
   ],
   "source": [
    "table2['Hindi'] = table2['Hindi'].dropna()\n",
    "table2['Science'] = table2['Science'].dropna()"
   ]
  },
  {
   "cell_type": "markdown",
   "id": "3b833dfb",
   "metadata": {},
   "source": [
    "### IMPLEMENT LSTM TO PREDICT STOCK PRICE"
   ]
  },
  {
   "cell_type": "code",
   "execution_count": 26,
   "id": "15d7be5f",
   "metadata": {},
   "outputs": [],
   "source": [
    "import numpy as np\n",
    "import matplotlib.pyplot as plt\n",
    "import pandas as pd"
   ]
  },
  {
   "cell_type": "code",
   "execution_count": 27,
   "id": "6ae4fe73",
   "metadata": {},
   "outputs": [],
   "source": [
    "# Importing the training set\n",
    "dataset_train = pd.read_csv('NSE-TATAGLOBAL.csv')\n",
    "training_set = dataset_train.iloc[:, 1:2].values"
   ]
  },
  {
   "cell_type": "code",
   "execution_count": 28,
   "id": "d6af51fd",
   "metadata": {},
   "outputs": [
    {
     "data": {
      "text/html": [
       "<div>\n",
       "<style scoped>\n",
       "    .dataframe tbody tr th:only-of-type {\n",
       "        vertical-align: middle;\n",
       "    }\n",
       "\n",
       "    .dataframe tbody tr th {\n",
       "        vertical-align: top;\n",
       "    }\n",
       "\n",
       "    .dataframe thead th {\n",
       "        text-align: right;\n",
       "    }\n",
       "</style>\n",
       "<table border=\"1\" class=\"dataframe\">\n",
       "  <thead>\n",
       "    <tr style=\"text-align: right;\">\n",
       "      <th></th>\n",
       "      <th>Date</th>\n",
       "      <th>Open</th>\n",
       "      <th>High</th>\n",
       "      <th>Low</th>\n",
       "      <th>Last</th>\n",
       "      <th>Close</th>\n",
       "      <th>Total Trade Quantity</th>\n",
       "      <th>Turnover (Lacs)</th>\n",
       "    </tr>\n",
       "  </thead>\n",
       "  <tbody>\n",
       "    <tr>\n",
       "      <th>2030</th>\n",
       "      <td>7/27/2010</td>\n",
       "      <td>117.6</td>\n",
       "      <td>119.50</td>\n",
       "      <td>112.00</td>\n",
       "      <td>118.80</td>\n",
       "      <td>118.65</td>\n",
       "      <td>586100</td>\n",
       "      <td>694.98</td>\n",
       "    </tr>\n",
       "    <tr>\n",
       "      <th>2031</th>\n",
       "      <td>7/26/2010</td>\n",
       "      <td>120.1</td>\n",
       "      <td>121.00</td>\n",
       "      <td>117.10</td>\n",
       "      <td>117.10</td>\n",
       "      <td>117.60</td>\n",
       "      <td>658440</td>\n",
       "      <td>780.01</td>\n",
       "    </tr>\n",
       "    <tr>\n",
       "      <th>2032</th>\n",
       "      <td>7/23/2010</td>\n",
       "      <td>121.8</td>\n",
       "      <td>121.95</td>\n",
       "      <td>120.25</td>\n",
       "      <td>120.35</td>\n",
       "      <td>120.65</td>\n",
       "      <td>281312</td>\n",
       "      <td>340.31</td>\n",
       "    </tr>\n",
       "    <tr>\n",
       "      <th>2033</th>\n",
       "      <td>7/22/2010</td>\n",
       "      <td>120.3</td>\n",
       "      <td>122.00</td>\n",
       "      <td>120.25</td>\n",
       "      <td>120.75</td>\n",
       "      <td>120.90</td>\n",
       "      <td>293312</td>\n",
       "      <td>355.17</td>\n",
       "    </tr>\n",
       "    <tr>\n",
       "      <th>2034</th>\n",
       "      <td>7/21/2010</td>\n",
       "      <td>122.1</td>\n",
       "      <td>123.00</td>\n",
       "      <td>121.05</td>\n",
       "      <td>121.10</td>\n",
       "      <td>121.55</td>\n",
       "      <td>658666</td>\n",
       "      <td>803.56</td>\n",
       "    </tr>\n",
       "  </tbody>\n",
       "</table>\n",
       "</div>"
      ],
      "text/plain": [
       "           Date   Open    High     Low    Last   Close  Total Trade Quantity  \\\n",
       "2030  7/27/2010  117.6  119.50  112.00  118.80  118.65                586100   \n",
       "2031  7/26/2010  120.1  121.00  117.10  117.10  117.60                658440   \n",
       "2032  7/23/2010  121.8  121.95  120.25  120.35  120.65                281312   \n",
       "2033  7/22/2010  120.3  122.00  120.25  120.75  120.90                293312   \n",
       "2034  7/21/2010  122.1  123.00  121.05  121.10  121.55                658666   \n",
       "\n",
       "      Turnover (Lacs)  \n",
       "2030           694.98  \n",
       "2031           780.01  \n",
       "2032           340.31  \n",
       "2033           355.17  \n",
       "2034           803.56  "
      ]
     },
     "execution_count": 28,
     "metadata": {},
     "output_type": "execute_result"
    }
   ],
   "source": [
    "dataset_train.tail(5)"
   ]
  },
  {
   "cell_type": "code",
   "execution_count": 29,
   "id": "32abaddf",
   "metadata": {},
   "outputs": [],
   "source": [
    "# Feature Scaling\n",
    "from sklearn.preprocessing import MinMaxScaler\n",
    "sc = MinMaxScaler(feature_range = (0, 1))\n",
    "training_set_scaled = sc.fit_transform(training_set)"
   ]
  },
  {
   "cell_type": "code",
   "execution_count": 30,
   "id": "8414eb71",
   "metadata": {},
   "outputs": [
    {
     "data": {
      "text/plain": [
       "2035"
      ]
     },
     "execution_count": 30,
     "metadata": {},
     "output_type": "execute_result"
    }
   ],
   "source": [
    "len(training_set_scaled)"
   ]
  },
  {
   "cell_type": "code",
   "execution_count": 31,
   "id": "ab80f9cc",
   "metadata": {},
   "outputs": [
    {
     "data": {
      "text/plain": [
       "0.8371857258718574"
      ]
     },
     "execution_count": 31,
     "metadata": {},
     "output_type": "execute_result"
    }
   ],
   "source": [
    "training_set_scaled[199, 0]"
   ]
  },
  {
   "cell_type": "code",
   "execution_count": 39,
   "id": "09778679",
   "metadata": {},
   "outputs": [],
   "source": [
    "# Creating a data structure with 60 timesteps and 1 output\n",
    "X_train = []\n",
    "y_train = []\n",
    "for i in range(60, 2035):\n",
    "    X_train.append(training_set_scaled[i-60:i, 0])\n",
    "    y_train.append(training_set_scaled[i, 0])\n",
    "X_train, y_train = np.array(X_train), np.array(y_train)"
   ]
  },
  {
   "cell_type": "code",
   "execution_count": 41,
   "id": "497eeb8e",
   "metadata": {},
   "outputs": [],
   "source": [
    "# Reshaping\n",
    "X_train = np.reshape(X_train, (X_train.shape[0], X_train.shape[1], 1))"
   ]
  },
  {
   "cell_type": "code",
   "execution_count": 47,
   "id": "c79b325e",
   "metadata": {},
   "outputs": [],
   "source": [
    "# Part 2 - Building the RNN\n",
    "\n",
    "# Importing the Keras libraries and packages\n",
    "from keras.models import Sequential\n",
    "from keras.layers import Dense\n",
    "from keras.layers import LSTM\n",
    "from keras.layers import Dropout"
   ]
  },
  {
   "cell_type": "code",
   "execution_count": 48,
   "id": "cebb016c",
   "metadata": {},
   "outputs": [
    {
     "data": {
      "text/plain": [
       "60"
      ]
     },
     "execution_count": 48,
     "metadata": {},
     "output_type": "execute_result"
    }
   ],
   "source": [
    "X_train.shape[1]"
   ]
  },
  {
   "cell_type": "code",
   "execution_count": 49,
   "id": "957b3ae4",
   "metadata": {},
   "outputs": [],
   "source": [
    "# Initialising the RNN\n",
    "regressor = Sequential()\n",
    "\n",
    "# Adding the first LSTM layer and some Dropout regularisation\n",
    "regressor.add(LSTM(units = 50, return_sequences = True, input_shape = (X_train.shape[1], 1)))\n",
    "regressor.add(Dropout(0.2))"
   ]
  },
  {
   "cell_type": "code",
   "execution_count": 50,
   "id": "1f7c4163",
   "metadata": {},
   "outputs": [],
   "source": [
    "# Adding a second LSTM layer and some Dropout regularisation\n",
    "regressor.add(LSTM(units = 50, return_sequences = True))\n",
    "regressor.add(Dropout(0.2))"
   ]
  },
  {
   "cell_type": "code",
   "execution_count": 51,
   "id": "342b7acb",
   "metadata": {},
   "outputs": [],
   "source": [
    "# Adding a third LSTM layer and some Dropout regularisation\n",
    "regressor.add(LSTM(units = 50, return_sequences = True))\n",
    "regressor.add(Dropout(0.2))"
   ]
  },
  {
   "cell_type": "code",
   "execution_count": 52,
   "id": "5af56d62",
   "metadata": {},
   "outputs": [],
   "source": [
    "# Adding a fourth LSTM layer and some Dropout regularisation\n",
    "regressor.add(LSTM(units = 50))\n",
    "regressor.add(Dropout(0.2))"
   ]
  },
  {
   "cell_type": "code",
   "execution_count": 53,
   "id": "76ca9183",
   "metadata": {},
   "outputs": [
    {
     "name": "stdout",
     "output_type": "stream",
     "text": [
      "Epoch 1/100\n",
      "62/62 [==============================] - 11s 53ms/step - loss: 0.0088\n",
      "Epoch 2/100\n",
      "62/62 [==============================] - 4s 57ms/step - loss: 0.0032\n",
      "Epoch 3/100\n",
      "62/62 [==============================] - 3s 49ms/step - loss: 0.0029\n",
      "Epoch 4/100\n",
      "62/62 [==============================] - 3s 48ms/step - loss: 0.0026\n",
      "Epoch 5/100\n",
      "62/62 [==============================] - 3s 52ms/step - loss: 0.0023\n",
      "Epoch 6/100\n",
      "62/62 [==============================] - 3s 51ms/step - loss: 0.0022\n",
      "Epoch 7/100\n",
      "62/62 [==============================] - 3s 51ms/step - loss: 0.0021\n",
      "Epoch 8/100\n",
      "62/62 [==============================] - 3s 51ms/step - loss: 0.0022\n",
      "Epoch 9/100\n",
      "62/62 [==============================] - 3s 56ms/step - loss: 0.0020\n",
      "Epoch 10/100\n",
      "62/62 [==============================] - 4s 60ms/step - loss: 0.0021\n",
      "Epoch 11/100\n",
      "62/62 [==============================] - 3s 53ms/step - loss: 0.0024\n",
      "Epoch 12/100\n",
      "62/62 [==============================] - 3s 56ms/step - loss: 0.0019\n",
      "Epoch 13/100\n",
      "62/62 [==============================] - 4s 61ms/step - loss: 0.0019\n",
      "Epoch 14/100\n",
      "62/62 [==============================] - 3s 56ms/step - loss: 0.0016\n",
      "Epoch 15/100\n",
      "62/62 [==============================] - 4s 57ms/step - loss: 0.0017\n",
      "Epoch 16/100\n",
      "62/62 [==============================] - 3s 56ms/step - loss: 0.0017\n",
      "Epoch 17/100\n",
      "62/62 [==============================] - 3s 56ms/step - loss: 0.0016\n",
      "Epoch 18/100\n",
      "62/62 [==============================] - 3s 56ms/step - loss: 0.0015\n",
      "Epoch 19/100\n",
      "62/62 [==============================] - 3s 56ms/step - loss: 0.0016\n",
      "Epoch 20/100\n",
      "62/62 [==============================] - 4s 57ms/step - loss: 0.0014\n",
      "Epoch 21/100\n",
      "62/62 [==============================] - 3s 56ms/step - loss: 0.0015\n",
      "Epoch 22/100\n",
      "62/62 [==============================] - 4s 57ms/step - loss: 0.0014\n",
      "Epoch 23/100\n",
      "62/62 [==============================] - 4s 58ms/step - loss: 0.0013\n",
      "Epoch 24/100\n",
      "62/62 [==============================] - 4s 64ms/step - loss: 0.0013\n",
      "Epoch 25/100\n",
      "62/62 [==============================] - 4s 65ms/step - loss: 0.0013\n",
      "Epoch 26/100\n",
      "62/62 [==============================] - 4s 66ms/step - loss: 0.0014\n",
      "Epoch 27/100\n",
      "62/62 [==============================] - 5s 75ms/step - loss: 0.0014\n",
      "Epoch 28/100\n",
      "62/62 [==============================] - 5s 78ms/step - loss: 0.0012\n",
      "Epoch 29/100\n",
      "62/62 [==============================] - 5s 74ms/step - loss: 0.0012\n",
      "Epoch 30/100\n",
      "62/62 [==============================] - 5s 75ms/step - loss: 0.0012\n",
      "Epoch 31/100\n",
      "62/62 [==============================] - 5s 83ms/step - loss: 0.0011\n",
      "Epoch 32/100\n",
      "62/62 [==============================] - 5s 73ms/step - loss: 0.0012\n",
      "Epoch 33/100\n",
      "62/62 [==============================] - 5s 73ms/step - loss: 0.0012\n",
      "Epoch 34/100\n",
      "62/62 [==============================] - 4s 66ms/step - loss: 0.0012\n",
      "Epoch 35/100\n",
      "62/62 [==============================] - 4s 64ms/step - loss: 0.0011\n",
      "Epoch 36/100\n",
      "62/62 [==============================] - 4s 63ms/step - loss: 0.0012\n",
      "Epoch 37/100\n",
      "62/62 [==============================] - 4s 66ms/step - loss: 0.0010\n",
      "Epoch 38/100\n",
      "62/62 [==============================] - 4s 64ms/step - loss: 0.0010\n",
      "Epoch 39/100\n",
      "62/62 [==============================] - 5s 75ms/step - loss: 0.0010\n",
      "Epoch 40/100\n",
      "62/62 [==============================] - 5s 81ms/step - loss: 0.0010\n",
      "Epoch 41/100\n",
      "62/62 [==============================] - 5s 82ms/step - loss: 9.5781e-04\n",
      "Epoch 42/100\n",
      "62/62 [==============================] - 5s 79ms/step - loss: 8.7914e-04\n",
      "Epoch 43/100\n",
      "62/62 [==============================] - 5s 79ms/step - loss: 0.0010\n",
      "Epoch 44/100\n",
      "62/62 [==============================] - 6s 90ms/step - loss: 0.0011\n",
      "Epoch 45/100\n",
      "62/62 [==============================] - 5s 81ms/step - loss: 0.0013\n",
      "Epoch 46/100\n",
      "62/62 [==============================] - 5s 78ms/step - loss: 9.4440e-04\n",
      "Epoch 47/100\n",
      "62/62 [==============================] - 4s 68ms/step - loss: 8.4832e-04\n",
      "Epoch 48/100\n",
      "62/62 [==============================] - 4s 65ms/step - loss: 9.4671e-04\n",
      "Epoch 49/100\n",
      "62/62 [==============================] - 4s 65ms/step - loss: 8.9448e-04\n",
      "Epoch 50/100\n",
      "62/62 [==============================] - 5s 73ms/step - loss: 8.2481e-04\n",
      "Epoch 51/100\n",
      "62/62 [==============================] - 4s 71ms/step - loss: 8.0940e-04\n",
      "Epoch 52/100\n",
      "62/62 [==============================] - 5s 73ms/step - loss: 7.8355e-04\n",
      "Epoch 53/100\n",
      "62/62 [==============================] - 5s 79ms/step - loss: 7.7067e-04\n",
      "Epoch 54/100\n",
      "62/62 [==============================] - 5s 75ms/step - loss: 6.3658e-04\n",
      "Epoch 55/100\n",
      "62/62 [==============================] - 5s 82ms/step - loss: 8.9070e-04\n",
      "Epoch 56/100\n",
      "62/62 [==============================] - 5s 74ms/step - loss: 8.0241e-04\n",
      "Epoch 57/100\n",
      "62/62 [==============================] - 5s 87ms/step - loss: 6.8145e-04\n",
      "Epoch 58/100\n",
      "62/62 [==============================] - 5s 75ms/step - loss: 8.3627e-04\n",
      "Epoch 59/100\n",
      "62/62 [==============================] - 5s 80ms/step - loss: 7.1245e-04\n",
      "Epoch 60/100\n",
      "62/62 [==============================] - 5s 74ms/step - loss: 7.5449e-04\n",
      "Epoch 61/100\n",
      "62/62 [==============================] - 4s 65ms/step - loss: 8.4885e-04\n",
      "Epoch 62/100\n",
      "62/62 [==============================] - 6s 93ms/step - loss: 6.2946e-04\n",
      "Epoch 63/100\n",
      "62/62 [==============================] - 5s 82ms/step - loss: 8.4463e-04\n",
      "Epoch 64/100\n",
      "62/62 [==============================] - 4s 71ms/step - loss: 7.4114e-04\n",
      "Epoch 65/100\n",
      "62/62 [==============================] - 5s 73ms/step - loss: 6.3662e-04\n",
      "Epoch 66/100\n",
      "62/62 [==============================] - 5s 77ms/step - loss: 7.1904e-04\n",
      "Epoch 67/100\n",
      "62/62 [==============================] - 4s 71ms/step - loss: 6.7043e-04\n",
      "Epoch 68/100\n",
      "62/62 [==============================] - 4s 69ms/step - loss: 6.8090e-04\n",
      "Epoch 69/100\n",
      "62/62 [==============================] - 4s 68ms/step - loss: 6.5680e-04\n",
      "Epoch 70/100\n",
      "62/62 [==============================] - 4s 63ms/step - loss: 6.5731e-04\n",
      "Epoch 71/100\n",
      "62/62 [==============================] - 4s 69ms/step - loss: 7.0448e-04\n",
      "Epoch 72/100\n",
      "62/62 [==============================] - 4s 67ms/step - loss: 6.6155e-04\n",
      "Epoch 73/100\n",
      "62/62 [==============================] - 4s 68ms/step - loss: 6.6062e-04\n",
      "Epoch 74/100\n",
      "62/62 [==============================] - 5s 74ms/step - loss: 7.3318e-04\n",
      "Epoch 75/100\n",
      "62/62 [==============================] - 5s 79ms/step - loss: 6.8450e-04\n",
      "Epoch 76/100\n",
      "62/62 [==============================] - 4s 70ms/step - loss: 7.3627e-04\n",
      "Epoch 77/100\n",
      "62/62 [==============================] - 4s 73ms/step - loss: 6.6371e-04\n",
      "Epoch 78/100\n",
      "62/62 [==============================] - 4s 72ms/step - loss: 7.9147e-04\n",
      "Epoch 79/100\n",
      "62/62 [==============================] - 5s 73ms/step - loss: 7.5268e-04\n",
      "Epoch 80/100\n",
      "62/62 [==============================] - 4s 72ms/step - loss: 8.1407e-04\n",
      "Epoch 81/100\n",
      "62/62 [==============================] - 4s 65ms/step - loss: 8.0023e-04\n",
      "Epoch 82/100\n",
      "62/62 [==============================] - 4s 71ms/step - loss: 7.8465e-04\n",
      "Epoch 83/100\n",
      "62/62 [==============================] - 4s 69ms/step - loss: 5.9407e-04\n",
      "Epoch 84/100\n",
      "62/62 [==============================] - 4s 69ms/step - loss: 6.6809e-04\n",
      "Epoch 85/100\n",
      "62/62 [==============================] - 4s 72ms/step - loss: 6.0357e-04\n",
      "Epoch 86/100\n",
      "62/62 [==============================] - 4s 72ms/step - loss: 6.6277e-04\n",
      "Epoch 87/100\n",
      "62/62 [==============================] - 4s 70ms/step - loss: 6.9039e-04\n",
      "Epoch 88/100\n",
      "62/62 [==============================] - 4s 70ms/step - loss: 7.2519e-04\n",
      "Epoch 89/100\n",
      "62/62 [==============================] - 5s 79ms/step - loss: 6.3178e-04\n",
      "Epoch 90/100\n",
      "62/62 [==============================] - 5s 80ms/step - loss: 5.9015e-04\n",
      "Epoch 91/100\n",
      "62/62 [==============================] - 4s 70ms/step - loss: 8.0494e-04\n",
      "Epoch 92/100\n",
      "62/62 [==============================] - 4s 70ms/step - loss: 8.8928e-04\n",
      "Epoch 93/100\n",
      "62/62 [==============================] - 4s 72ms/step - loss: 6.3764e-04\n",
      "Epoch 94/100\n",
      "62/62 [==============================] - 5s 74ms/step - loss: 6.3630e-04\n",
      "Epoch 95/100\n",
      "62/62 [==============================] - 5s 73ms/step - loss: 6.7927e-04\n",
      "Epoch 96/100\n",
      "62/62 [==============================] - 5s 74ms/step - loss: 5.5248e-04\n",
      "Epoch 97/100\n",
      "62/62 [==============================] - 4s 70ms/step - loss: 6.0829e-04\n",
      "Epoch 98/100\n"
     ]
    },
    {
     "name": "stdout",
     "output_type": "stream",
     "text": [
      "62/62 [==============================] - 4s 69ms/step - loss: 6.0958e-04\n",
      "Epoch 99/100\n",
      "62/62 [==============================] - 4s 70ms/step - loss: 6.4946e-04\n",
      "Epoch 100/100\n",
      "62/62 [==============================] - 4s 66ms/step - loss: 6.1013e-04\n"
     ]
    },
    {
     "data": {
      "text/plain": [
       "<keras.callbacks.History at 0x21689a2e430>"
      ]
     },
     "execution_count": 53,
     "metadata": {},
     "output_type": "execute_result"
    }
   ],
   "source": [
    "# Adding the output layer\n",
    "regressor.add(Dense(units = 1))\n",
    "\n",
    "# Compiling the RNN\n",
    "regressor.compile(optimizer = 'adam', loss = 'mean_squared_error')\n",
    "\n",
    "# Fitting the RNN to the Training set\n",
    "regressor.fit(X_train, y_train, epochs = 100, batch_size = 32)"
   ]
  },
  {
   "cell_type": "code",
   "execution_count": 54,
   "id": "52f262b4",
   "metadata": {},
   "outputs": [],
   "source": [
    "# Part 3 - Making the predictions and visualising the results\n",
    "\n",
    "# Getting the real stock price of 2017\n",
    "dataset_test = pd.read_csv('tatatest.csv')\n",
    "real_stock_price = dataset_test.iloc[:, 1:2].values"
   ]
  },
  {
   "cell_type": "code",
   "execution_count": 55,
   "id": "05300b5b",
   "metadata": {},
   "outputs": [
    {
     "name": "stdout",
     "output_type": "stream",
     "text": [
      "1/1 [==============================] - 2s 2s/step\n"
     ]
    }
   ],
   "source": [
    "# Getting the predicted stock price of 2017\n",
    "dataset_total = pd.concat((dataset_train['Open'], dataset_test['Open']), axis = 0)\n",
    "inputs = dataset_total[len(dataset_total) - len(dataset_test) - 60:].values\n",
    "inputs = inputs.reshape(-1,1)\n",
    "inputs = sc.transform(inputs)\n",
    "X_test = []\n",
    "for i in range(60, 76):\n",
    "    X_test.append(inputs[i-60:i, 0])\n",
    "X_test = np.array(X_test)\n",
    "X_test = np.reshape(X_test, (X_test.shape[0], X_test.shape[1], 1))\n",
    "predicted_stock_price = regressor.predict(X_test)\n",
    "predicted_stock_price = sc.inverse_transform(predicted_stock_price)"
   ]
  },
  {
   "cell_type": "code",
   "execution_count": 61,
   "id": "316c69ff",
   "metadata": {},
   "outputs": [
    {
     "data": {
      "image/png": "[encoded data removed]",
      "text/plain": [
       "<Figure size 432x288 with 1 Axes>"
      ]
     },
     "metadata": {
      "needs_background": "light"
     },
     "output_type": "display_data"
    }
   ],
   "source": [
    "# Visualising the results\n",
    "plt.plot(real_stock_price, color = 'red', label = 'Real TATA Stock Price')\n",
    "plt.plot(predicted_stock_price, color = 'blue', label = 'Predicted TAT Stock Price')\n",
    "plt.title('TATA Stock Price Prediction')\n",
    "plt.xlabel('Time')\n",
    "plt.ylabel('TATA Stock Price')\n",
    "plt.legend()\n",
    "plt.show()"
   ]
  }
 ],
 "metadata": {
  "kernelspec": {
   "display_name": "Python 3 (ipykernel)",
   "language": "python",
   "name": "python3"
  },
  "language_info": {
   "codemirror_mode": {
    "name": "ipython",
    "version": 3
   },
   "file_extension": ".py",
   "mimetype": "text/x-python",
   "name": "python",
   "nbconvert_exporter": "python",
   "pygments_lexer": "ipython3",
   "version": "3.9.12"
  }
 },
 "nbformat": 4,
 "nbformat_minor": 5
}
